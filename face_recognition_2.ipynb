{
 "cells": [
  {
   "cell_type": "markdown",
   "metadata": {},
   "source": [
    "# Detect Faces for Face Recognition"
   ]
  },
  {
   "cell_type": "code",
   "execution_count": 2,
   "metadata": {},
   "outputs": [
    {
     "name": "stdout",
     "output_type": "stream",
     "text": [
      "WARNING:tensorflow:From c:\\Users\\yusri\\AppData\\Local\\Programs\\Python\\Python310\\lib\\site-packages\\tf_keras\\src\\losses.py:2976: The name tf.losses.sparse_softmax_cross_entropy is deprecated. Please use tf.compat.v1.losses.sparse_softmax_cross_entropy instead.\n",
      "\n"
     ]
    }
   ],
   "source": [
    "import numpy as np\n",
    "import pickle\n",
    "import os\n",
    "from sklearn.metrics.pairwise import cosine_similarity\n",
    "from tensorflow.keras.preprocessing.image import img_to_array, load_img\n",
    "from tensorflow.keras.applications.mobilenet_v2 import preprocess_input\n",
    "from deepface import DeepFace"
   ]
  },
  {
   "cell_type": "markdown",
   "metadata": {},
   "source": [
    "# Create Face Embeddings\n"
   ]
  },
  {
   "cell_type": "code",
   "execution_count": 3,
   "metadata": {},
   "outputs": [
    {
     "name": "stdout",
     "output_type": "stream",
     "text": [
      "Loaded Model\n"
     ]
    }
   ],
   "source": [
    "model = DeepFace.build_model(\"Facenet\")\n",
    "print(\"Loaded Model\")"
   ]
  },
  {
   "cell_type": "code",
   "execution_count": 4,
   "metadata": {},
   "outputs": [],
   "source": [
    "def get_embedding(image_path):\n",
    "    img = load_img(image_path, target_size=(160, 160))\n",
    "    img_array = img_to_array(img)\n",
    "    img_array = np.expand_dims(img_array, axis=0)\n",
    "    img_array = preprocess_input(img_array)\n",
    "    \n",
    "    embedding = model.model.predict(img_array)\n",
    "    return embedding[0]\n",
    "\n",
    "def save_embedding(name, embedding, file_path=\"embeddings.pkl\"):\n",
    "    if os.path.exists(file_path):\n",
    "        with open(file_path, \"rb\") as f:\n",
    "            data = pickle.load(f)\n",
    "    else:\n",
    "        data = {}\n",
    "    \n",
    "    data[name] = embedding\n",
    "    with open(file_path, \"wb\") as f:\n",
    "        pickle.dump(data, f)\n",
    "    print(f\"Embedding {name} berhasil disimpan.\")\n",
    "\n",
    "def load_embeddings(file_path=\"embeddings.pkl\"):\n",
    "    if not os.path.exists(file_path):\n",
    "        raise FileNotFoundError(f\"Tidak ditemukan file embedding di {file_path}\")\n",
    "    \n",
    "    with open(file_path, \"rb\") as f:\n",
    "        data = pickle.load(f)\n",
    "    return data\n",
    "\n",
    "def compare_embeddings(embedding1, embedding2):\n",
    "    embedding1 = embedding1.reshape(1, -1)\n",
    "    embedding2 = embedding2.reshape(1, -1)\n",
    "    similarity = cosine_similarity(embedding1, embedding2)\n",
    "    return similarity[0][0]\n"
   ]
  },
  {
   "cell_type": "markdown",
   "metadata": {},
   "source": [
    "# Registrasi User"
   ]
  },
  {
   "cell_type": "code",
   "execution_count": 15,
   "metadata": {},
   "outputs": [
    {
     "name": "stdout",
     "output_type": "stream",
     "text": [
      "\u001b[1m1/1\u001b[0m \u001b[32m━━━━━━━━━━━━━━━━━━━━\u001b[0m\u001b[37m\u001b[0m \u001b[1m0s\u001b[0m 99ms/step\n",
      "Embedding arya berhasil disimpan.\n"
     ]
    }
   ],
   "source": [
    "image_path_register = \"dataset/arya/arya.jpeg\"  # Ganti dengan path gambar wajah\n",
    "name = \"arya\"  # Nama user untuk identifikasi\n",
    "\n",
    "# Pendaftaran wajah\n",
    "embedding = get_embedding(image_path_register)\n",
    "save_embedding(name, embedding)"
   ]
  },
  {
   "cell_type": "markdown",
   "metadata": {},
   "source": [
    "# Validasi User"
   ]
  },
  {
   "cell_type": "code",
   "execution_count": 6,
   "metadata": {},
   "outputs": [
    {
     "name": "stdout",
     "output_type": "stream",
     "text": [
      "\u001b[1m1/1\u001b[0m \u001b[32m━━━━━━━━━━━━━━━━━━━━\u001b[0m\u001b[37m\u001b[0m \u001b[1m0s\u001b[0m 46ms/step\n",
      "Similarity dengan yusriyah: 42.14%\n",
      "Similarity dengan bima: 35.97%\n",
      "Similarity dengan arya: 26.35%\n",
      "Similarity dengan aul: 87.01%\n",
      "Similarity dengan miku: 45.29%\n"
     ]
    }
   ],
   "source": [
    "embeddings = load_embeddings()\n",
    "\n",
    "image_path = \"dataset/aul/aul2.jpeg\" \n",
    "test_embedding = get_embedding(image_path)\n",
    "\n",
    "# Bandingkan dengan semua embedding yang sudah ada\n",
    "for registered_name, registered_embedding in embeddings.items():\n",
    "    similarity = compare_embeddings(test_embedding, registered_embedding)\n",
    "    print(f\"Similarity dengan {registered_name}: {similarity * 100:.2f}%\")"
   ]
  }
 ],
 "metadata": {
  "kernelspec": {
   "display_name": "Python 3",
   "language": "python",
   "name": "python3"
  },
  "language_info": {
   "codemirror_mode": {
    "name": "ipython",
    "version": 3
   },
   "file_extension": ".py",
   "mimetype": "text/x-python",
   "name": "python",
   "nbconvert_exporter": "python",
   "pygments_lexer": "ipython3",
   "version": "3.10.6"
  }
 },
 "nbformat": 4,
 "nbformat_minor": 2
}
